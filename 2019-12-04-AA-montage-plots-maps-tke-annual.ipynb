{
 "cells": [
  {
   "cell_type": "code",
   "execution_count": 4,
   "metadata": {},
   "outputs": [],
   "source": [
    "for file in ['NACHOS12.L75/Maps/GS/NACHOS12.L75-MAA4001_y2010_tke_surf.png','GS36/Maps/GS36-MPC001_y2010_tke_surf.png','GS36/Maps/GS36-MPC002_y2010_tke_surf.png','GS36/Maps/GS36-MPC003_y2010_tke_surf.png','NATL60/Maps/GS/NATL60-CJM165_y2012-2013_tke_surf.png','NACHOS12.L75/Maps/GS/NACHOS12.L75-MAA4001_y2011_tke_surf.png','GS36/Maps/GS36-MPC001_y2011_tke_surf.png','GS36/Maps/GS36-MPC002_y2011_tke_surf.png','GS36/Maps/GS36-MPC003_y2011_tke_surf.png','NACHOS12.L75/Maps/GS/NACHOS12.L75-MAA4001_y2012_tke_surf.png','GS36/Maps/GS36-MPC001_y2012_tke_surf.png','GS36/Maps/GS36-MPC002_y2012_tke_surf.png','GS36/Maps/GS36-MPC003_y2012_tke_surf.png']:\n",
    "    !convert $file -trim -bordercolor White -border 20x10 +repage $file"
   ]
  },
  {
   "cell_type": "code",
   "execution_count": 15,
   "metadata": {},
   "outputs": [],
   "source": [
    "!montage NACHOS12.L75/Maps/GS/NACHOS12.L75-MAA4001_y2010_tke_surf.png GS36/Maps/GS36-MPC001_y2010_tke_surf.png GS36/Maps/GS36-MPC002_y2010_tke_surf.png GS36/Maps/GS36-MPC003_y2010_tke_surf.png NATL60/Maps/GS/NATL60-CJM165_y2012-2013_tke_surf.png NACHOS12.L75/Maps/GS/NACHOS12.L75-MAA4001_y2011_tke_surf.png GS36/Maps/GS36-MPC001_y2011_tke_surf.png GS36/Maps/GS36-MPC002_y2011_tke_surf.png GS36/Maps/GS36-MPC003_y2011_tke_surf.png NATL60/Maps/GS/NATL60-CJM165_y2012-2013_tke_surf.png NACHOS12.L75/Maps/GS/NACHOS12.L75-MAA4001_y2012_tke_surf.png GS36/Maps/GS36-MPC001_y2012_tke_surf.png GS36/Maps/GS36-MPC002_y2012_tke_surf.png GS36/Maps/GS36-MPC003_y2012_tke_surf.png NATL60/Maps/GS/NATL60-CJM165_y2012-2013_tke_surf.png -geometry 1400x900 -tile 5x3 -quality 100 Comp/Maps/NACHOS12.L75_GS36-MPC001_MPC002_MPC003_NATL60_y2010-2011-2012_tke_surf.png\n",
    "!convert Comp/Maps/NACHOS12.L75_GS36-MPC001_MPC002_MPC003_NATL60_y2010-2011-2012_tke_surf.png -trim -bordercolor White -border 20x10 +repage Comp/Maps/NACHOS12.L75_GS36-MPC001_MPC002_MPC003_NATL60_y2010-2011-2012_tke_surf.png"
   ]
  },
  {
   "cell_type": "code",
   "execution_count": 11,
   "metadata": {},
   "outputs": [],
   "source": [
    "for file in ['NACHOS12.L75/Maps/EU/NACHOS12.L75-MAA4001_y2010_tke_surf.png','EU36/Maps/EU36-MPC001_y2010_tke_surf.png','EU36/Maps/EU36-MPC002_y2010_tke_surf.png','EU36/Maps/EU36-MPC003_y2010_tke_surf.png','NATL60/Maps/EU/NATL60-CJM165_y2012-2013_tke_surf.png','NACHOS12.L75/Maps/EU/NACHOS12.L75-MAA4002_y2011_tke_surf.png','EU36/Maps/EU36-MPC001_y2011_tke_surf.png','EU36/Maps/EU36-MPC002_y2011_tke_surf.png','EU36/Maps/EU36-MPC003_y2011_tke_surf.png','NACHOS12.L75/Maps/EU/NACHOS12.L75-MAA4002_y2012_tke_surf.png','EU36/Maps/EU36-MPC001_y2012_tke_surf.png','EU36/Maps/EU36-MPC002_y2012_tke_surf.png','EU36/Maps/EU36-MPC003_y2012_tke_surf.png']:\n",
    "    !convert $file -trim -bordercolor White -border 20x10 +repage $file"
   ]
  },
  {
   "cell_type": "code",
   "execution_count": 16,
   "metadata": {},
   "outputs": [],
   "source": [
    "!montage NACHOS12.L75/Maps/EU/NACHOS12.L75-MAA4001_y2010_tke_surf.png EU36/Maps/EU36-MPC001_y2010_tke_surf.png EU36/Maps/EU36-MPC002_y2010_tke_surf.png EU36/Maps/EU36-MPC003_y2010_tke_surf.png NATL60/Maps/EU/NATL60-CJM165_y2012-2013_tke_surf.png NACHOS12.L75/Maps/EU/NACHOS12.L75-MAA4002_y2011_tke_surf.png EU36/Maps/EU36-MPC001_y2011_tke_surf.png EU36/Maps/EU36-MPC002_y2011_tke_surf.png EU36/Maps/EU36-MPC003_y2011_tke_surf.png NATL60/Maps/EU/NATL60-CJM165_y2012-2013_tke_surf.png NACHOS12.L75/Maps/EU/NACHOS12.L75-MAA4002_y2012_tke_surf.png EU36/Maps/EU36-MPC001_y2012_tke_surf.png EU36/Maps/EU36-MPC002_y2012_tke_surf.png EU36/Maps/EU36-MPC003_y2012_tke_surf.png NATL60/Maps/EU/NATL60-CJM165_y2012-2013_tke_surf.png -geometry 800x900 -tile 5x3 -quality 100 Comp/Maps/NACHOS12.L75_EU36-MPC001_MPC002_MPC003_NATL60_y2010-2011-2012_tke_surf.png\n",
    "!convert Comp/Maps/NACHOS12.L75_EU36-MPC001_MPC002_MPC003_NATL60_y2010-2011-2012_tke_surf.png -trim -bordercolor White -border 20x10 +repage Comp/Maps/NACHOS12.L75_EU36-MPC001_MPC002_MPC003_NATL60_y2010-2011-2012_tke_surf.png"
   ]
  },
  {
   "cell_type": "code",
   "execution_count": null,
   "metadata": {},
   "outputs": [],
   "source": []
  }
 ],
 "metadata": {
  "kernelspec": {
   "display_name": "Python 3",
   "language": "python",
   "name": "python3"
  },
  "language_info": {
   "codemirror_mode": {
    "name": "ipython",
    "version": 3
   },
   "file_extension": ".py",
   "mimetype": "text/x-python",
   "name": "python",
   "nbconvert_exporter": "python",
   "pygments_lexer": "ipython3",
   "version": "3.7.3"
  }
 },
 "nbformat": 4,
 "nbformat_minor": 2
}
